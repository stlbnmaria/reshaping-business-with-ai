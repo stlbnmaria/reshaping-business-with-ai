{
 "cells": [
  {
   "cell_type": "markdown",
   "metadata": {},
   "source": [
    "# Exploratory Data Analysis"
   ]
  },
  {
   "cell_type": "code",
   "execution_count": null,
   "metadata": {},
   "outputs": [],
   "source": [
    "import pandas as pd\n",
    "import matplotlib.pyplot as plt"
   ]
  },
  {
   "cell_type": "markdown",
   "metadata": {},
   "source": [
    "## Loading data"
   ]
  },
  {
   "cell_type": "code",
   "execution_count": null,
   "metadata": {},
   "outputs": [],
   "source": [
    "df = pd.read_csv(\"../data/transactions_dataset.csv\", sep=\";\")"
   ]
  },
  {
   "cell_type": "markdown",
   "metadata": {},
   "source": [
    "## Exploring data"
   ]
  },
  {
   "cell_type": "code",
   "execution_count": null,
   "metadata": {},
   "outputs": [],
   "source": [
    "df.sort_values(\"date_order\").head(10)"
   ]
  },
  {
   "cell_type": "code",
   "execution_count": null,
   "metadata": {},
   "outputs": [],
   "source": [
    "df.info(verbose=True)"
   ]
  },
  {
   "cell_type": "code",
   "execution_count": null,
   "metadata": {},
   "outputs": [],
   "source": [
    "df.describe()"
   ]
  },
  {
   "cell_type": "markdown",
   "metadata": {},
   "source": [
    "Let's check if there is missing data..."
   ]
  },
  {
   "cell_type": "code",
   "execution_count": null,
   "metadata": {},
   "outputs": [],
   "source": [
    "df.isna().mean()"
   ]
  },
  {
   "cell_type": "code",
   "execution_count": null,
   "metadata": {},
   "outputs": [],
   "source": [
    "len(df[df.sales_net < 0]) / len(df)"
   ]
  },
  {
   "cell_type": "markdown",
   "metadata": {},
   "source": [
    "Let's have a look at the different columns individually..."
   ]
  },
  {
   "cell_type": "code",
   "execution_count": null,
   "metadata": {},
   "outputs": [],
   "source": [
    "df.order_channel.value_counts().plot(kind=\"bar\")\n",
    "plt.title(\"Distribution of order channels\");"
   ]
  },
  {
   "cell_type": "code",
   "execution_count": null,
   "metadata": {},
   "outputs": [],
   "source": [
    "df.branch_id.nunique()"
   ]
  },
  {
   "cell_type": "code",
   "execution_count": null,
   "metadata": {},
   "outputs": [],
   "source": [
    "df.branch_id.value_counts().head(30).plot(kind=\"bar\")\n",
    "plt.title(\"Distribution of top 30 branches\");"
   ]
  },
  {
   "cell_type": "code",
   "execution_count": null,
   "metadata": {},
   "outputs": [],
   "source": [
    "df.client_id.nunique()"
   ]
  },
  {
   "cell_type": "code",
   "execution_count": null,
   "metadata": {},
   "outputs": [],
   "source": [
    "df.client_id.value_counts().head(30).plot(kind=\"bar\")\n",
    "plt.title(\"Distribution of top 30 clients\");"
   ]
  },
  {
   "cell_type": "code",
   "execution_count": null,
   "metadata": {},
   "outputs": [],
   "source": [
    "df.product_id.nunique()"
   ]
  },
  {
   "cell_type": "code",
   "execution_count": null,
   "metadata": {},
   "outputs": [],
   "source": [
    "df.product_id.value_counts().head(30).plot(kind=\"bar\")\n",
    "plt.title(\"Distribution of top 30 products\");"
   ]
  },
  {
   "cell_type": "code",
   "execution_count": null,
   "metadata": {},
   "outputs": [],
   "source": [
    "df[\"date_order\"] = pd.to_datetime(df[\"date_order\"])"
   ]
  },
  {
   "cell_type": "code",
   "execution_count": null,
   "metadata": {},
   "outputs": [],
   "source": [
    "df.client_id.value_counts()"
   ]
  },
  {
   "cell_type": "code",
   "execution_count": null,
   "metadata": {},
   "outputs": [],
   "source": [
    "df[\"price\"] = df[\"sales_net\"] / df[\"quantity\"]"
   ]
  },
  {
   "cell_type": "code",
   "execution_count": null,
   "metadata": {},
   "outputs": [],
   "source": [
    "import numpy as np\n",
    "\n",
    "df[\"qauntity\"] = np.where(\n",
    "    df[\"quantity\"] > 0, df[\"quantity\"], -1 * df[\"quantity\"]\n",
    ")"
   ]
  },
  {
   "cell_type": "code",
   "execution_count": null,
   "metadata": {},
   "outputs": [],
   "source": [
    "df_reduced = df.groupby(\n",
    "    [\"date_order\", \"client_id\", \"product_id\", \"order_channel\"]\n",
    ").agg({\"sales_net\": \"sum\", \"quantity\": \"sum\"})"
   ]
  },
  {
   "cell_type": "code",
   "execution_count": null,
   "metadata": {},
   "outputs": [],
   "source": [
    "df_reduced[df_reduced[\"sales_net\"] < 0]"
   ]
  },
  {
   "cell_type": "code",
   "execution_count": null,
   "metadata": {},
   "outputs": [],
   "source": [
    "df[\"date_order\"].max()"
   ]
  },
  {
   "cell_type": "code",
   "execution_count": null,
   "metadata": {},
   "outputs": [],
   "source": [
    "df_pos = df[df.sales_net > 0]"
   ]
  },
  {
   "cell_type": "code",
   "execution_count": null,
   "metadata": {},
   "outputs": [],
   "source": [
    "from datetime import timedelta\n",
    "\n",
    "test_stamp = df_pos[\"date_order\"].max() - timedelta(days=90)"
   ]
  },
  {
   "cell_type": "code",
   "execution_count": null,
   "metadata": {},
   "outputs": [],
   "source": [
    "test_data = df_pos[df_pos[\"date_order\"] >= test_stamp]"
   ]
  },
  {
   "cell_type": "code",
   "execution_count": null,
   "metadata": {},
   "outputs": [],
   "source": [
    "df_pos"
   ]
  },
  {
   "cell_type": "code",
   "execution_count": null,
   "metadata": {},
   "outputs": [],
   "source": [
    "# Sort data by 'client_id' and 'date_order'\n",
    "df_pos.sort_values([\"client_id\", \"date_order\"], inplace=True)"
   ]
  },
  {
   "cell_type": "code",
   "execution_count": null,
   "metadata": {},
   "outputs": [],
   "source": [
    "df_day = df_pos.drop_duplicates([\"date_order\", \"client_id\"])\n",
    "\n",
    "# Calculate the time difference between consecutive purchases for each customer\n",
    "df_day[\"time_since_previous_purchase\"] = df_day.groupby(\"client_id\")[\n",
    "    \"date_order\"\n",
    "].diff()"
   ]
  },
  {
   "cell_type": "code",
   "execution_count": null,
   "metadata": {},
   "outputs": [],
   "source": [
    "df_day.head()"
   ]
  },
  {
   "cell_type": "code",
   "execution_count": null,
   "metadata": {},
   "outputs": [],
   "source": [
    "# Calculate the average time between purchases for all customers\n",
    "average_time_between_purchases = df_day[\"time_since_previous_purchase\"].mean()\n",
    "print(\n",
    "    f\"Average time between a customer's purchases: {average_time_between_purchases}\"\n",
    ")"
   ]
  },
  {
   "cell_type": "code",
   "execution_count": null,
   "metadata": {},
   "outputs": [],
   "source": [
    "time_to_buy = (\n",
    "    df_day.groupby(\"client_id\")[\"time_since_previous_purchase\"].max().dt.days\n",
    ")\n",
    "# time_to_buy = time_to_buy[(time_to_buy > 0) & (time_to_buy < 150)]"
   ]
  },
  {
   "cell_type": "code",
   "execution_count": null,
   "metadata": {},
   "outputs": [],
   "source": [
    "churn_customers = time_to_buy[time_to_buy > 40].index"
   ]
  },
  {
   "cell_type": "code",
   "execution_count": null,
   "metadata": {},
   "outputs": [],
   "source": [
    "time_to_buy.isna().mean()"
   ]
  },
  {
   "cell_type": "code",
   "execution_count": null,
   "metadata": {},
   "outputs": [],
   "source": [
    "time_to_buy.hist(bins=100)"
   ]
  },
  {
   "cell_type": "code",
   "execution_count": null,
   "metadata": {},
   "outputs": [],
   "source": [
    "client_percent = (\n",
    "    time_to_buy.reset_index()\n",
    "    .groupby(\"time_since_previous_purchase\")\n",
    "    .client_id.count()\n",
    ")\n",
    "client_percent = client_percent.reset_index().sort_values(\n",
    "    \"time_since_previous_purchase\"\n",
    ")\n",
    "client_percent[\"client_id\"] = (\n",
    "    client_percent.client_id.cumsum(axis=0) / client_percent.client_id.sum()\n",
    ")"
   ]
  },
  {
   "cell_type": "code",
   "execution_count": null,
   "metadata": {},
   "outputs": [],
   "source": [
    "plt.plot(\"time_since_previous_purchase\", \"client_id\", data=client_percent)\n",
    "plt.xlabel(\"Avg. number of days since last purchase\")\n",
    "plt.ylabel(\"Percentage of clients\")"
   ]
  },
  {
   "cell_type": "code",
   "execution_count": null,
   "metadata": {},
   "outputs": [],
   "source": [
    "revenue_sum = df_pos.groupby(\"client_id\").sales_net.sum()\n",
    "revenue_sum = time_to_buy.reset_index().merge(\n",
    "    revenue_sum, left_on=\"client_id\", right_index=True, how=\"outer\"\n",
    ")\n",
    "revenue_sum = revenue_sum.fillna(max(revenue_sum.time_since_previous_purchase))\n",
    "revenue_sum = revenue_sum.sort_values(\"time_since_previous_purchase\")\n",
    "revenue_sum = (\n",
    "    revenue_sum.groupby(\"time_since_previous_purchase\")\n",
    "    .sales_net.sum()\n",
    "    .reset_index()\n",
    ")\n",
    "revenue_precent = revenue_sum.copy()\n",
    "revenue_precent[\"sales_net\"] = (\n",
    "    revenue_precent.sales_net.cumsum(axis=0) / revenue_precent.sales_net.sum()\n",
    ")\n",
    "revenue_sum[\"sales_net\"] = revenue_sum.sales_net.cumsum(axis=0)"
   ]
  },
  {
   "cell_type": "code",
   "execution_count": null,
   "metadata": {},
   "outputs": [],
   "source": [
    "plt.plot(\n",
    "    \"time_since_previous_purchase\",\n",
    "    \"sales_net\",\n",
    "    data=revenue_precent,\n",
    "    label=\"Revenue\",\n",
    ")\n",
    "plt.xlabel(\"Avg. number of days since last purchase\")\n",
    "plt.ylabel(\"Percentage of revenue\")"
   ]
  },
  {
   "cell_type": "code",
   "execution_count": null,
   "metadata": {},
   "outputs": [],
   "source": [
    "plt.rcParams.update({\"font.size\": 18})\n",
    "plt.figure(figsize=(15, 6))\n",
    "plt.plot(\n",
    "    \"time_since_previous_purchase\",\n",
    "    \"sales_net\",\n",
    "    data=revenue_precent,\n",
    "    label=\"Revenue\",\n",
    "    color=\"#03522D\",\n",
    ")\n",
    "plt.plot(\n",
    "    \"time_since_previous_purchase\",\n",
    "    \"client_id\",\n",
    "    data=client_percent,\n",
    "    label=\"Client\",\n",
    "    color=\"#29BA74\",\n",
    ")\n",
    "plt.vlines(x=60, ymin=0, ymax=0.983666, color=\"grey\")\n",
    "# plt.hlines(y=0.983666, xmin=-10, xmax=60, color=\"lightgrey\")\n",
    "# plt.hlines(y=0.757764, xmin=-10, xmax=60, color=\"lightgrey\")\n",
    "plt.xlabel(\"Avg. number of days since last purchase\")\n",
    "plt.ylabel(\"Percentage of revenue or client\")\n",
    "plt.legend()\n",
    "plt.savefig(\"demo.png\", transparent=True)"
   ]
  },
  {
   "cell_type": "code",
   "execution_count": null,
   "metadata": {},
   "outputs": [],
   "source": [
    "(1 - 0.757764) * df_pos.client_id.nunique()"
   ]
  },
  {
   "cell_type": "code",
   "execution_count": null,
   "metadata": {},
   "outputs": [],
   "source": [
    "client_percent[client_percent.time_since_previous_purchase == 60]"
   ]
  },
  {
   "cell_type": "code",
   "execution_count": null,
   "metadata": {},
   "outputs": [],
   "source": [
    "1 - (\n",
    "    revenue_sum[revenue_sum.time_since_previous_purchase == 60].sales_net\n",
    "    / revenue_sum.sales_net.max()\n",
    ")"
   ]
  },
  {
   "cell_type": "code",
   "execution_count": null,
   "metadata": {},
   "outputs": [],
   "source": [
    "(\n",
    "    revenue_sum.sales_net.max()\n",
    "    - revenue_sum[revenue_sum.time_since_previous_purchase == 60].sales_net\n",
    ")"
   ]
  },
  {
   "cell_type": "code",
   "execution_count": null,
   "metadata": {},
   "outputs": [],
   "source": [
    "sales = df.groupby(\"client_id\").sales_net.mean()\n",
    "sales[sales < 10000].hist()"
   ]
  },
  {
   "cell_type": "code",
   "execution_count": null,
   "metadata": {},
   "outputs": [],
   "source": [
    "sales[sales.index.isin(churn_customers)].sum() / sales.sum()"
   ]
  },
  {
   "cell_type": "code",
   "execution_count": null,
   "metadata": {},
   "outputs": [],
   "source": [
    "(time_to_buy > 180).sum() / len(time_to_buy)"
   ]
  },
  {
   "cell_type": "code",
   "execution_count": null,
   "metadata": {},
   "outputs": [],
   "source": [
    "(df.groupby(\"client_id\").sales_net.mean() > 1000).mean()"
   ]
  },
  {
   "cell_type": "code",
   "execution_count": null,
   "metadata": {},
   "outputs": [],
   "source": [
    "df[df.client_id == 1090388]"
   ]
  },
  {
   "cell_type": "code",
   "execution_count": null,
   "metadata": {},
   "outputs": [],
   "source": []
  },
  {
   "cell_type": "code",
   "execution_count": null,
   "metadata": {},
   "outputs": [],
   "source": [
    "df[\n",
    "    (df.date_order == \"2017-09-26\")\n",
    "    & (df.product_id == 121848)\n",
    "    & (df.client_id == 1789606)\n",
    "]"
   ]
  },
  {
   "cell_type": "code",
   "execution_count": null,
   "metadata": {},
   "outputs": [],
   "source": []
  },
  {
   "cell_type": "code",
   "execution_count": null,
   "metadata": {},
   "outputs": [],
   "source": []
  },
  {
   "cell_type": "code",
   "execution_count": null,
   "metadata": {},
   "outputs": [],
   "source": [
    "temp.head()"
   ]
  },
  {
   "cell_type": "code",
   "execution_count": null,
   "metadata": {},
   "outputs": [],
   "source": [
    "temp = df[df[\"sales_net\"] < 0]\n",
    "# ((pd.to_datetime(temp[\"date_invoice\"]) - temp[\"date_order\"]).value_counts() / len(temp)).head(50)"
   ]
  },
  {
   "cell_type": "code",
   "execution_count": null,
   "metadata": {},
   "outputs": [],
   "source": []
  },
  {
   "cell_type": "code",
   "execution_count": null,
   "metadata": {},
   "outputs": [],
   "source": []
  },
  {
   "cell_type": "code",
   "execution_count": null,
   "metadata": {},
   "outputs": [],
   "source": []
  },
  {
   "cell_type": "code",
   "execution_count": null,
   "metadata": {},
   "outputs": [],
   "source": []
  },
  {
   "cell_type": "code",
   "execution_count": null,
   "metadata": {},
   "outputs": [],
   "source": [
    "import pandas as pd\n",
    "from datetime import datetime, timedelta\n",
    "\n",
    "# Filter data for the last 3 months\n",
    "three_months_ago = datetime.now() - timedelta(\n",
    "    days=90\n",
    ")  # Assuming 30 days per month\n",
    "recent_data = df[df[\"date_order\"] >= three_months_ago]\n",
    "\n",
    "# Identify unique customers who made purchases in the last 3 months\n",
    "unique_customers = recent_data[\"client_id\"].unique()\n",
    "\n",
    "# List of customers who made purchases in the last 3 months\n",
    "print(\"Customers who made purchases in the last 3 months:\")\n",
    "print(unique_customers)"
   ]
  },
  {
   "cell_type": "code",
   "execution_count": null,
   "metadata": {},
   "outputs": [],
   "source": []
  },
  {
   "cell_type": "code",
   "execution_count": null,
   "metadata": {},
   "outputs": [],
   "source": []
  },
  {
   "cell_type": "code",
   "execution_count": null,
   "metadata": {},
   "outputs": [],
   "source": []
  },
  {
   "cell_type": "code",
   "execution_count": null,
   "metadata": {},
   "outputs": [],
   "source": []
  },
  {
   "cell_type": "code",
   "execution_count": null,
   "metadata": {},
   "outputs": [],
   "source": []
  },
  {
   "cell_type": "code",
   "execution_count": null,
   "metadata": {},
   "outputs": [],
   "source": []
  },
  {
   "cell_type": "code",
   "execution_count": null,
   "metadata": {},
   "outputs": [],
   "source": []
  },
  {
   "cell_type": "code",
   "execution_count": null,
   "metadata": {},
   "outputs": [],
   "source": []
  },
  {
   "cell_type": "code",
   "execution_count": null,
   "metadata": {},
   "outputs": [],
   "source": []
  },
  {
   "cell_type": "code",
   "execution_count": null,
   "metadata": {},
   "outputs": [],
   "source": []
  },
  {
   "cell_type": "code",
   "execution_count": null,
   "metadata": {},
   "outputs": [],
   "source": []
  },
  {
   "cell_type": "code",
   "execution_count": null,
   "metadata": {},
   "outputs": [],
   "source": [
    "df.groupby(\"branch_id\").sales_net.sum().reset_index().sort_values(\"sales_net\")"
   ]
  },
  {
   "cell_type": "code",
   "execution_count": null,
   "metadata": {},
   "outputs": [],
   "source": [
    "df[df.sales_net > 0].groupby(\n",
    "    \"branch_id\"\n",
    ").sales_net.sum().reset_index().sort_values(\"sales_net\")"
   ]
  },
  {
   "cell_type": "code",
   "execution_count": null,
   "metadata": {},
   "outputs": [],
   "source": [
    "df[df.sales_net > 0].groupby(\n",
    "    \"branch_id\"\n",
    ").quantity.sum().reset_index().sort_values(\"quantity\")"
   ]
  },
  {
   "cell_type": "code",
   "execution_count": null,
   "metadata": {},
   "outputs": [],
   "source": [
    "df.groupby(\"branch_id\").quantity.sum().reset_index().sort_values(\"quantity\")"
   ]
  },
  {
   "cell_type": "code",
   "execution_count": null,
   "metadata": {},
   "outputs": [],
   "source": [
    "df[df.branch_id == 3318].product_id.value_counts().head(20)"
   ]
  },
  {
   "cell_type": "code",
   "execution_count": null,
   "metadata": {},
   "outputs": [],
   "source": [
    "df[df.branch_id == 3318].product_id.nunique()"
   ]
  },
  {
   "cell_type": "code",
   "execution_count": null,
   "metadata": {},
   "outputs": [],
   "source": [
    "df.date_order.nunique()"
   ]
  },
  {
   "cell_type": "code",
   "execution_count": null,
   "metadata": {},
   "outputs": [],
   "source": [
    "df_3318 = df.loc[df.branch_id == 3318].copy()"
   ]
  },
  {
   "cell_type": "code",
   "execution_count": null,
   "metadata": {},
   "outputs": [],
   "source": [
    "df_3318[\"date_order\"] = pd.to_datetime(df_3318[\"date_order\"])\n",
    "df_3318[\"week_of_year\"] = df_3318[\"date_order\"].dt.isocalendar().week\n",
    "\n",
    "df_3318[\"year\"] = df_3318[\"date_order\"].dt.year\n",
    "df_3318[\"month\"] = df_3318[\"date_order\"].dt.month"
   ]
  },
  {
   "cell_type": "code",
   "execution_count": null,
   "metadata": {},
   "outputs": [],
   "source": [
    "df_3318[\"price\"] = df_3318[\"sales_net\"] / df_3318[\"quantity\"]\n",
    "df_3318 = df_3318.drop(\n",
    "    columns=[\"date_invoice\", \"client_id\", \"branch_id\", \"order_channel\"]\n",
    ")"
   ]
  },
  {
   "cell_type": "code",
   "execution_count": null,
   "metadata": {},
   "outputs": [],
   "source": [
    "df_3318.head()"
   ]
  },
  {
   "cell_type": "code",
   "execution_count": null,
   "metadata": {},
   "outputs": [],
   "source": [
    "temp = (\n",
    "    df_3318.groupby([\"year\", \"week_of_year\", \"product_id\"])\n",
    "    .agg(\n",
    "        {\n",
    "            \"quantity\": \"sum\",\n",
    "            \"price\": \"mean\",\n",
    "            \"month\": \"first\",\n",
    "            \"sales_net\": \"sum\",\n",
    "        }\n",
    "    )\n",
    "    .reset_index()\n",
    ")"
   ]
  },
  {
   "cell_type": "code",
   "execution_count": null,
   "metadata": {},
   "outputs": [],
   "source": [
    "prods = (\n",
    "    temp.product_id.value_counts()[temp.product_id.value_counts() > 20]\n",
    "    .reset_index()\n",
    "    .product_id.unique()\n",
    ")"
   ]
  },
  {
   "cell_type": "code",
   "execution_count": null,
   "metadata": {},
   "outputs": [],
   "source": [
    "temp[temp.product_id.isin(prods)].sales_net.sum() / temp.sales_net.sum()"
   ]
  },
  {
   "cell_type": "code",
   "execution_count": null,
   "metadata": {},
   "outputs": [],
   "source": []
  },
  {
   "cell_type": "code",
   "execution_count": null,
   "metadata": {},
   "outputs": [],
   "source": []
  },
  {
   "cell_type": "code",
   "execution_count": null,
   "metadata": {},
   "outputs": [],
   "source": [
    "len(df_3318[df_3318.sales_net < 0]) / len(df_3318)"
   ]
  },
  {
   "cell_type": "code",
   "execution_count": null,
   "metadata": {},
   "outputs": [],
   "source": [
    "df_day = (\n",
    "    df_3318.groupby([\"date_order\", \"product_id\"])[[\"sales_net\", \"quantity\"]]\n",
    "    .sum()\n",
    "    .reset_index()\n",
    ")"
   ]
  },
  {
   "cell_type": "code",
   "execution_count": null,
   "metadata": {},
   "outputs": [],
   "source": [
    "df_day[\"year\"] = df_day[\"date_order\"].dt.year\n",
    "df_day[\"week_of_year\"] = df_day[\"date_order\"].dt.isocalendar().week"
   ]
  },
  {
   "cell_type": "code",
   "execution_count": null,
   "metadata": {},
   "outputs": [],
   "source": [
    "df_week = (\n",
    "    df_day.groupby([\"year\", \"week_of_year\", \"product_id\"])\n",
    "    .quantity.sum()\n",
    "    .reset_index()\n",
    ")"
   ]
  },
  {
   "cell_type": "code",
   "execution_count": null,
   "metadata": {},
   "outputs": [],
   "source": []
  },
  {
   "cell_type": "code",
   "execution_count": null,
   "metadata": {},
   "outputs": [],
   "source": [
    "df_week"
   ]
  },
  {
   "cell_type": "code",
   "execution_count": null,
   "metadata": {},
   "outputs": [],
   "source": [
    "sum(df_week.product_id.value_counts() > 20)"
   ]
  },
  {
   "cell_type": "code",
   "execution_count": null,
   "metadata": {},
   "outputs": [],
   "source": [
    "sum(df_day.product_id.value_counts() > 50)"
   ]
  },
  {
   "cell_type": "code",
   "execution_count": null,
   "metadata": {},
   "outputs": [],
   "source": [
    "df_day.product_id.nunique()"
   ]
  },
  {
   "cell_type": "code",
   "execution_count": null,
   "metadata": {},
   "outputs": [],
   "source": [
    "df_day.date_order.nunique()"
   ]
  },
  {
   "cell_type": "code",
   "execution_count": null,
   "metadata": {},
   "outputs": [],
   "source": [
    "df_day[\"date_order\"] = pd.to_datetime(df_day[\"date_order\"])"
   ]
  },
  {
   "cell_type": "code",
   "execution_count": null,
   "metadata": {},
   "outputs": [],
   "source": [
    "df_day[(df_day.product_id == 114938) & (df_day.date_order > \"2019-07\")].plot(\n",
    "    x=\"date_order\", y=\"quantity\"\n",
    ")"
   ]
  },
  {
   "cell_type": "code",
   "execution_count": null,
   "metadata": {},
   "outputs": [],
   "source": [
    "df_day[(df_day.product_id == 114938) & (df_day.date_order > \"2019-07\")]"
   ]
  },
  {
   "cell_type": "code",
   "execution_count": null,
   "metadata": {},
   "outputs": [],
   "source": []
  }
 ],
 "metadata": {
  "kernelspec": {
   "display_name": "venv",
   "language": "python",
   "name": "python3"
  },
  "language_info": {
   "codemirror_mode": {
    "name": "ipython",
    "version": 3
   },
   "file_extension": ".py",
   "mimetype": "text/x-python",
   "name": "python",
   "nbconvert_exporter": "python",
   "pygments_lexer": "ipython3",
   "version": "3.10.7"
  }
 },
 "nbformat": 4,
 "nbformat_minor": 2
}
