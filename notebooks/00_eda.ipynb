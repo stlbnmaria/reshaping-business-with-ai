{
 "cells": [
  {
   "cell_type": "markdown",
   "metadata": {},
   "source": [
    "# Exploratory Data Analysis"
   ]
  },
  {
   "cell_type": "code",
   "execution_count": null,
   "metadata": {},
   "outputs": [],
   "source": [
    "import pandas as pd\n",
    "import matplotlib.pyplot as plt\n",
    "from pathlib import Path\n",
    "from datetime import timedelta"
   ]
  },
  {
   "cell_type": "markdown",
   "metadata": {},
   "source": [
    "## Loading data"
   ]
  },
  {
   "cell_type": "code",
   "execution_count": null,
   "metadata": {},
   "outputs": [],
   "source": [
    "df = pd.read_csv(\"../data/transactions_dataset.csv\", sep=\";\")"
   ]
  },
  {
   "cell_type": "markdown",
   "metadata": {},
   "source": [
    "## Exploring data"
   ]
  },
  {
   "cell_type": "code",
   "execution_count": null,
   "metadata": {},
   "outputs": [],
   "source": [
    "df.sort_values(\"date_order\").head(10)"
   ]
  },
  {
   "cell_type": "code",
   "execution_count": null,
   "metadata": {},
   "outputs": [],
   "source": [
    "df.info(verbose=True)"
   ]
  },
  {
   "cell_type": "code",
   "execution_count": null,
   "metadata": {},
   "outputs": [],
   "source": [
    "df.describe()"
   ]
  },
  {
   "cell_type": "markdown",
   "metadata": {},
   "source": [
    "Let's check if there is missing data..."
   ]
  },
  {
   "cell_type": "code",
   "execution_count": null,
   "metadata": {},
   "outputs": [],
   "source": [
    "df.isna().mean()"
   ]
  },
  {
   "cell_type": "code",
   "execution_count": null,
   "metadata": {},
   "outputs": [],
   "source": [
    "len(df[df.sales_net < 0]) / len(df)"
   ]
  },
  {
   "cell_type": "markdown",
   "metadata": {},
   "source": [
    "Let's have a look at the different columns individually..."
   ]
  },
  {
   "cell_type": "code",
   "execution_count": null,
   "metadata": {},
   "outputs": [],
   "source": [
    "df.order_channel.value_counts().plot(kind=\"bar\")\n",
    "plt.title(\"Distribution of order channels\");"
   ]
  },
  {
   "cell_type": "code",
   "execution_count": null,
   "metadata": {},
   "outputs": [],
   "source": [
    "df.branch_id.nunique()"
   ]
  },
  {
   "cell_type": "code",
   "execution_count": null,
   "metadata": {},
   "outputs": [],
   "source": [
    "df.branch_id.value_counts().head(30).plot(kind=\"bar\")\n",
    "plt.title(\"Distribution of top 30 branches\");"
   ]
  },
  {
   "cell_type": "code",
   "execution_count": null,
   "metadata": {},
   "outputs": [],
   "source": [
    "df.client_id.nunique()"
   ]
  },
  {
   "cell_type": "code",
   "execution_count": null,
   "metadata": {},
   "outputs": [],
   "source": [
    "df.client_id.value_counts().head(30).plot(kind=\"bar\")\n",
    "plt.title(\"Distribution of top 30 clients\");"
   ]
  },
  {
   "cell_type": "code",
   "execution_count": null,
   "metadata": {},
   "outputs": [],
   "source": [
    "df.product_id.nunique()"
   ]
  },
  {
   "cell_type": "code",
   "execution_count": null,
   "metadata": {},
   "outputs": [],
   "source": [
    "df.product_id.value_counts().head(30).plot(kind=\"bar\")\n",
    "plt.title(\"Distribution of top 30 products\");"
   ]
  },
  {
   "cell_type": "markdown",
   "metadata": {},
   "source": [
    "## Churn Analysis"
   ]
  },
  {
   "cell_type": "code",
   "execution_count": null,
   "metadata": {},
   "outputs": [],
   "source": [
    "df[\"date_order\"] = pd.to_datetime(df[\"date_order\"])"
   ]
  },
  {
   "cell_type": "code",
   "execution_count": null,
   "metadata": {},
   "outputs": [],
   "source": [
    "df.client_id.value_counts()"
   ]
  },
  {
   "cell_type": "code",
   "execution_count": null,
   "metadata": {},
   "outputs": [],
   "source": [
    "df_pos = df[df.sales_net > 0].copy()"
   ]
  },
  {
   "cell_type": "code",
   "execution_count": null,
   "metadata": {},
   "outputs": [],
   "source": [
    "# Sort data by 'client_id' and 'date_order'\n",
    "df_pos.sort_values([\"client_id\", \"date_order\"], inplace=True)"
   ]
  },
  {
   "cell_type": "code",
   "execution_count": null,
   "metadata": {},
   "outputs": [],
   "source": [
    "df_day = df_pos.drop_duplicates([\"date_order\", \"client_id\"])\n",
    "\n",
    "# Calculate the time difference between consecutive purchases for each customer\n",
    "df_day[\"time_since_previous_purchase\"] = df_day.groupby(\"client_id\")[\n",
    "    \"date_order\"\n",
    "].diff()"
   ]
  },
  {
   "cell_type": "code",
   "execution_count": null,
   "metadata": {},
   "outputs": [],
   "source": [
    "# Calculate the average time between purchases for all customers\n",
    "average_time_between_purchases = df_day[\"time_since_previous_purchase\"].mean()\n",
    "print(\n",
    "    f\"Average time between a customer's purchases: {average_time_between_purchases}\"\n",
    ")"
   ]
  },
  {
   "cell_type": "code",
   "execution_count": null,
   "metadata": {},
   "outputs": [],
   "source": [
    "time_to_buy = (\n",
    "    df_day.groupby(\"client_id\")[\"time_since_previous_purchase\"].mean().dt.days\n",
    ")"
   ]
  },
  {
   "cell_type": "code",
   "execution_count": null,
   "metadata": {},
   "outputs": [],
   "source": [
    "churn_customers = time_to_buy[time_to_buy > 60].index"
   ]
  },
  {
   "cell_type": "code",
   "execution_count": null,
   "metadata": {},
   "outputs": [],
   "source": [
    "time_to_buy.isna().mean()"
   ]
  },
  {
   "cell_type": "code",
   "execution_count": null,
   "metadata": {},
   "outputs": [],
   "source": [
    "time_to_buy.hist(bins=100)"
   ]
  },
  {
   "cell_type": "code",
   "execution_count": null,
   "metadata": {},
   "outputs": [],
   "source": [
    "client_percent = (\n",
    "    time_to_buy.reset_index()\n",
    "    .groupby(\"time_since_previous_purchase\")\n",
    "    .client_id.count()\n",
    ")\n",
    "client_percent = client_percent.reset_index().sort_values(\n",
    "    \"time_since_previous_purchase\"\n",
    ")\n",
    "client_percent[\"client_id\"] = (\n",
    "    client_percent.client_id.cumsum(axis=0) / client_percent.client_id.sum()\n",
    ")"
   ]
  },
  {
   "cell_type": "code",
   "execution_count": null,
   "metadata": {},
   "outputs": [],
   "source": [
    "plt.plot(\"time_since_previous_purchase\", \"client_id\", data=client_percent)\n",
    "plt.xlabel(\"Avg. number of days since last purchase\")\n",
    "plt.ylabel(\"Percentage of clients\")"
   ]
  },
  {
   "cell_type": "code",
   "execution_count": null,
   "metadata": {},
   "outputs": [],
   "source": [
    "revenue_sum = df_pos.groupby(\"client_id\").sales_net.sum()\n",
    "revenue_sum = time_to_buy.reset_index().merge(\n",
    "    revenue_sum, left_on=\"client_id\", right_index=True, how=\"outer\"\n",
    ")\n",
    "revenue_sum = revenue_sum.fillna(max(revenue_sum.time_since_previous_purchase))\n",
    "revenue_sum = revenue_sum.sort_values(\"time_since_previous_purchase\")\n",
    "revenue_sum = (\n",
    "    revenue_sum.groupby(\"time_since_previous_purchase\")\n",
    "    .sales_net.sum()\n",
    "    .reset_index()\n",
    ")\n",
    "revenue_precent = revenue_sum.copy()\n",
    "revenue_precent[\"sales_net\"] = (\n",
    "    revenue_precent.sales_net.cumsum(axis=0) / revenue_precent.sales_net.sum()\n",
    ")\n",
    "revenue_sum[\"sales_net\"] = revenue_sum.sales_net.cumsum(axis=0)"
   ]
  },
  {
   "cell_type": "code",
   "execution_count": null,
   "metadata": {},
   "outputs": [],
   "source": [
    "plt.plot(\n",
    "    \"time_since_previous_purchase\",\n",
    "    \"sales_net\",\n",
    "    data=revenue_precent,\n",
    "    label=\"Revenue\",\n",
    ")\n",
    "plt.xlabel(\"Avg. number of days since last purchase\")\n",
    "plt.ylabel(\"Percentage of revenue\")"
   ]
  },
  {
   "cell_type": "code",
   "execution_count": null,
   "metadata": {},
   "outputs": [],
   "source": [
    "plt.rcParams.update({\"font.size\": 18})\n",
    "plt.figure(figsize=(15, 6))\n",
    "plt.plot(\n",
    "    \"time_since_previous_purchase\",\n",
    "    \"sales_net\",\n",
    "    data=revenue_precent,\n",
    "    label=\"Revenue\",\n",
    "    color=\"#03522D\",\n",
    ")\n",
    "plt.plot(\n",
    "    \"time_since_previous_purchase\",\n",
    "    \"client_id\",\n",
    "    data=client_percent,\n",
    "    label=\"Client\",\n",
    "    color=\"#29BA74\",\n",
    ")\n",
    "plt.vlines(x=60, ymin=0, ymax=0.983666, color=\"grey\")\n",
    "plt.xlabel(\"Avg. number of days since last purchase\")\n",
    "plt.ylabel(\"Percentage of revenue or client\")\n",
    "plt.legend()\n",
    "Path(\"../results\").mkdir(parents=True, exist_ok=True)\n",
    "plt.savefig(\n",
    "    Path(\"../results\") / \"avg_time_since_purchase.png\", transparent=True\n",
    ")"
   ]
  },
  {
   "cell_type": "code",
   "execution_count": null,
   "metadata": {},
   "outputs": [],
   "source": [
    "client_percent[client_percent.time_since_previous_purchase == 60]"
   ]
  },
  {
   "cell_type": "code",
   "execution_count": null,
   "metadata": {},
   "outputs": [],
   "source": [
    "(1 - 0.757764) * df_pos.client_id.nunique()"
   ]
  },
  {
   "cell_type": "code",
   "execution_count": null,
   "metadata": {},
   "outputs": [],
   "source": [
    "1 - (\n",
    "    revenue_sum[revenue_sum.time_since_previous_purchase == 60].sales_net\n",
    "    / revenue_sum.sales_net.max()\n",
    ")"
   ]
  },
  {
   "cell_type": "code",
   "execution_count": null,
   "metadata": {},
   "outputs": [],
   "source": [
    "(\n",
    "    revenue_sum.sales_net.max()\n",
    "    - revenue_sum[revenue_sum.time_since_previous_purchase == 60].sales_net\n",
    ")"
   ]
  },
  {
   "cell_type": "code",
   "execution_count": null,
   "metadata": {},
   "outputs": [],
   "source": []
  }
 ],
 "metadata": {
  "kernelspec": {
   "display_name": "venv",
   "language": "python",
   "name": "python3"
  },
  "language_info": {
   "codemirror_mode": {
    "name": "ipython",
    "version": 3
   },
   "file_extension": ".py",
   "mimetype": "text/x-python",
   "name": "python",
   "nbconvert_exporter": "python",
   "pygments_lexer": "ipython3",
   "version": "3.10.7"
  }
 },
 "nbformat": 4,
 "nbformat_minor": 2
}
