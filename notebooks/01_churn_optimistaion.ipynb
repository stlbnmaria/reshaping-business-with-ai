{
 "cells": [
  {
   "cell_type": "markdown",
   "metadata": {},
   "source": [
    "# Churn target optimisation"
   ]
  },
  {
   "cell_type": "code",
   "execution_count": null,
   "metadata": {},
   "outputs": [],
   "source": [
    "from datetime import timedelta\n",
    "import os\n",
    "from pathlib import Path\n",
    "\n",
    "import pandas as pd\n",
    "import numpy as np\n",
    "import seaborn as sns\n",
    "import matplotlib.pyplot as plt\n",
    "\n",
    "from src.modeling import run_modeling\n",
    "from config.config import THRESHOLD"
   ]
  },
  {
   "cell_type": "code",
   "execution_count": null,
   "metadata": {},
   "outputs": [],
   "source": [
    "os.chdir(\"..\")"
   ]
  },
  {
   "cell_type": "markdown",
   "metadata": {},
   "source": [
    "## Loading relationship quality"
   ]
  },
  {
   "cell_type": "code",
   "execution_count": null,
   "metadata": {},
   "outputs": [],
   "source": [
    "df_add = pd.read_csv(\"data/sales_client_relationship_dataset.csv\")"
   ]
  },
  {
   "cell_type": "code",
   "execution_count": null,
   "metadata": {},
   "outputs": [],
   "source": [
    "df_add.columns"
   ]
  },
  {
   "cell_type": "code",
   "execution_count": null,
   "metadata": {},
   "outputs": [],
   "source": [
    "df_add[\"quali_relation\"].value_counts()"
   ]
  },
  {
   "cell_type": "markdown",
   "metadata": {},
   "source": [
    "## Loading model predictions"
   ]
  },
  {
   "cell_type": "code",
   "execution_count": null,
   "metadata": {},
   "outputs": [],
   "source": [
    "train, test, clf = run_modeling(folds=1)"
   ]
  },
  {
   "cell_type": "code",
   "execution_count": null,
   "metadata": {},
   "outputs": [],
   "source": [
    "# predict and add probabilites to test\n",
    "preds = clf.predict_proba(test.drop(columns=[\"client_id\", \"churn\"]))[:, 1]\n",
    "test[\"preds\"] = preds"
   ]
  },
  {
   "cell_type": "markdown",
   "metadata": {},
   "source": [
    "## Churn Distributions"
   ]
  },
  {
   "cell_type": "code",
   "execution_count": null,
   "metadata": {},
   "outputs": [],
   "source": [
    "opt_df = test.merge(df_add, on=\"client_id\", how=\"left\")"
   ]
  },
  {
   "cell_type": "code",
   "execution_count": null,
   "metadata": {},
   "outputs": [],
   "source": [
    "df = pd.read_csv(\"data/transactions_dataset.csv\", sep=\";\")\n",
    "df[\"date_order\"] = pd.to_datetime(df[\"date_order\"])"
   ]
  },
  {
   "cell_type": "code",
   "execution_count": null,
   "metadata": {},
   "outputs": [],
   "source": [
    "test_stamp = df.date_order.max() - timedelta(days=THRESHOLD)\n",
    "df = df[df.date_order < test_stamp]"
   ]
  },
  {
   "cell_type": "code",
   "execution_count": null,
   "metadata": {},
   "outputs": [],
   "source": [
    "df = df[df.client_id.isin(opt_df.client_id.unique())]"
   ]
  },
  {
   "cell_type": "code",
   "execution_count": null,
   "metadata": {},
   "outputs": [],
   "source": [
    "year_cap = df.date_order.max() - timedelta(days=365)"
   ]
  },
  {
   "cell_type": "code",
   "execution_count": null,
   "metadata": {},
   "outputs": [],
   "source": [
    "time_since_client = (\n",
    "    df.date_order.max() - df.groupby(\"client_id\").date_order.min()\n",
    ")\n",
    "time_since_client = time_since_client.reset_index()\n",
    "time_since_client.loc[\n",
    "    time_since_client.date_order > timedelta(days=365), \"date_order\"\n",
    "] = timedelta(days=365)\n",
    "time_since_client[\"nr_days_client\"] = time_since_client[\"date_order\"].dt.days\n",
    "time_since_client[\"nr_days_client\"] = np.where(\n",
    "    time_since_client[\"nr_days_client\"] == 0,\n",
    "    1,\n",
    "    time_since_client[\"nr_days_client\"],\n",
    ")\n",
    "time_since_client = time_since_client.drop(columns=\"date_order\")"
   ]
  },
  {
   "cell_type": "code",
   "execution_count": null,
   "metadata": {},
   "outputs": [],
   "source": [
    "df = df[df.date_order >= year_cap]"
   ]
  },
  {
   "cell_type": "code",
   "execution_count": null,
   "metadata": {},
   "outputs": [],
   "source": [
    "sales_value = df.groupby(\"client_id\").sales_net.sum().reset_index()\n",
    "sales_value.columns = [\"client_id\", \"sales_last_year\"]"
   ]
  },
  {
   "cell_type": "code",
   "execution_count": null,
   "metadata": {},
   "outputs": [],
   "source": [
    "opt_df = opt_df.merge(sales_value, on=\"client_id\", how=\"left\")\n",
    "opt_df = opt_df.merge(time_since_client, on=\"client_id\")"
   ]
  },
  {
   "cell_type": "code",
   "execution_count": null,
   "metadata": {},
   "outputs": [],
   "source": [
    "opt_df[\"potential_revenue\"] = (\n",
    "    opt_df[\"sales_last_year\"] / opt_df.nr_days_client\n",
    ") * (365 / (opt_df.avg_time_purchase + 1))"
   ]
  },
  {
   "cell_type": "code",
   "execution_count": null,
   "metadata": {},
   "outputs": [],
   "source": [
    "plt.figure(figsize=(10, 5))\n",
    "sns.scatterplot(\n",
    "    data=opt_df, x=\"preds\", y=\"potential_revenue\", hue=\"quali_relation\"\n",
    ")"
   ]
  },
  {
   "cell_type": "code",
   "execution_count": null,
   "metadata": {},
   "outputs": [],
   "source": [
    "plt.figure(figsize=(10, 5))\n",
    "sns.scatterplot(\n",
    "    data=opt_df[opt_df.preds > 0.2],\n",
    "    x=\"preds\",\n",
    "    y=\"potential_revenue\",\n",
    "    hue=\"quali_relation\",\n",
    ")"
   ]
  },
  {
   "cell_type": "code",
   "execution_count": null,
   "metadata": {},
   "outputs": [],
   "source": [
    "plt.figure(figsize=(10, 5))\n",
    "sns.scatterplot(\n",
    "    data=opt_df[opt_df.preds > 0.2],\n",
    "    x=\"quali_relation\",\n",
    "    y=\"potential_revenue\",\n",
    "    hue=\"preds\",\n",
    ")"
   ]
  },
  {
   "cell_type": "markdown",
   "metadata": {},
   "source": [
    "## Churn Optimisation"
   ]
  },
  {
   "cell_type": "code",
   "execution_count": null,
   "metadata": {},
   "outputs": [],
   "source": [
    "opt_df.groupby(\"quali_relation\").potential_revenue.quantile(q=0.8)"
   ]
  },
  {
   "cell_type": "code",
   "execution_count": null,
   "metadata": {},
   "outputs": [],
   "source": [
    "# assign cost based on quantile and quality of relation\n",
    "opt_df[\"cost_intervention\"] = np.where(\n",
    "    (opt_df.quali_relation == \"Agreeable client\")\n",
    "    & (opt_df.potential_revenue < 10000),\n",
    "    25,\n",
    "    np.nan,\n",
    ")\n",
    "opt_df[\"cost_intervention\"] = np.where(\n",
    "    (opt_df.quali_relation == \"Agreeable client\")\n",
    "    & (opt_df.potential_revenue >= 10000),\n",
    "    100,\n",
    "    opt_df[\"cost_intervention\"],\n",
    ")\n",
    "opt_df[\"cost_intervention\"] = np.where(\n",
    "    (opt_df.quali_relation == \"Demanding client\")\n",
    "    & (opt_df.potential_revenue < 9500),\n",
    "    100,\n",
    "    opt_df[\"cost_intervention\"],\n",
    ")\n",
    "opt_df[\"cost_intervention\"] = np.where(\n",
    "    (opt_df.quali_relation == \"Demanding client\")\n",
    "    & (opt_df.potential_revenue >= 9500),\n",
    "    250,\n",
    "    opt_df[\"cost_intervention\"],\n",
    ")\n",
    "opt_df[\"cost_intervention\"] = np.where(\n",
    "    (opt_df.quali_relation == \"Difficult client\")\n",
    "    & (opt_df.potential_revenue >= 9800),\n",
    "    400,\n",
    "    opt_df[\"cost_intervention\"],\n",
    ")"
   ]
  },
  {
   "cell_type": "code",
   "execution_count": null,
   "metadata": {},
   "outputs": [],
   "source": [
    "# assign client rank based on quantile and quality of relation\n",
    "opt_df[\"client_rank\"] = np.where(\n",
    "    (opt_df.quali_relation == \"Agreeable client\")\n",
    "    & (opt_df.potential_revenue < 10000),\n",
    "    \"Low Hanging Fruits\",\n",
    "    \"\",\n",
    ")\n",
    "opt_df[\"client_rank\"] = np.where(\n",
    "    (opt_df.quali_relation == \"Agreeable client\")\n",
    "    & (opt_df.potential_revenue >= 10000),\n",
    "    \"Prime\",\n",
    "    opt_df[\"client_rank\"],\n",
    ")\n",
    "opt_df[\"client_rank\"] = np.where(\n",
    "    (opt_df.quali_relation == \"Demanding client\")\n",
    "    & (opt_df.potential_revenue < 9500),\n",
    "    \"Nice to Have\",\n",
    "    opt_df[\"client_rank\"],\n",
    ")\n",
    "opt_df[\"client_rank\"] = np.where(\n",
    "    (opt_df.quali_relation == \"Demanding client\")\n",
    "    & (opt_df.potential_revenue >= 9500),\n",
    "    \"Valuable\",\n",
    "    opt_df[\"client_rank\"],\n",
    ")\n",
    "opt_df[\"client_rank\"] = np.where(\n",
    "    (opt_df.quali_relation == \"Difficult client\")\n",
    "    & (opt_df.potential_revenue >= 9800),\n",
    "    \"High Efforts & Return\",\n",
    "    opt_df[\"client_rank\"],\n",
    ")"
   ]
  },
  {
   "cell_type": "code",
   "execution_count": null,
   "metadata": {},
   "outputs": [],
   "source": [
    "# remove the not targeted group\n",
    "focus_df = opt_df.dropna(subset=\"cost_intervention\").copy()\n",
    "\n",
    "# calculate expected value and expected value over cost\n",
    "focus_df[\"potential_revenue\"] = (\n",
    "    0.5 * focus_df.preds * focus_df[\"potential_revenue\"]\n",
    ")\n",
    "focus_df[\"expected_value\"] = (\n",
    "    focus_df[\"potential_revenue\"] - focus_df[\"cost_intervention\"] / 0.78\n",
    ")\n",
    "focus_df[\"return_per_cost\"] = (\n",
    "    focus_df[\"expected_value\"] / focus_df[\"cost_intervention\"]\n",
    ")"
   ]
  },
  {
   "cell_type": "code",
   "execution_count": null,
   "metadata": {},
   "outputs": [],
   "source": [
    "# sort by maximal return over cost to sum expected value of most optimal efforts first\n",
    "focus_df = focus_df.sort_values(\"return_per_cost\", ascending=False)\n",
    "focus_df[\"cost_sum\"] = focus_df.cost_intervention.cumsum()\n",
    "focus_df[\"expected_value_sum\"] = focus_df.expected_value.cumsum()\n",
    "focus_df[\"return_per_cost_sum\"] = focus_df.return_per_cost.cumsum()"
   ]
  },
  {
   "cell_type": "code",
   "execution_count": null,
   "metadata": {},
   "outputs": [],
   "source": [
    "# get list of clients we would care for with a sales budget of 100k\n",
    "contact_clients = focus_df[focus_df.cost_sum < 100_000]\n",
    "contact_clients.client_rank.value_counts()"
   ]
  },
  {
   "cell_type": "code",
   "execution_count": null,
   "metadata": {},
   "outputs": [],
   "source": [
    "# plot optimisation of expected value\n",
    "plt.figure(figsize=(15, 6))\n",
    "sns.lineplot(\n",
    "    data=focus_df, x=\"cost_sum\", y=\"expected_value_sum\", color=\"#29BA74\"\n",
    ")\n",
    "plt.vlines(\n",
    "    x=100_000,\n",
    "    ymin=focus_df.expected_value_sum.min(),\n",
    "    ymax=focus_df[focus_df.cost_sum < 100_000].expected_value_sum.iloc[-1],\n",
    "    color=\"grey\",\n",
    ")\n",
    "plt.vlines(\n",
    "    x=focus_df[\n",
    "        focus_df.return_per_cost_sum == focus_df.return_per_cost_sum.max()\n",
    "    ].cost_sum,\n",
    "    ymin=focus_df.expected_value_sum.min(),\n",
    "    ymax=focus_df.expected_value_sum.max(),\n",
    "    color=\"grey\",\n",
    ")\n",
    "plt.xlabel(\"Sales budget\")\n",
    "plt.ylabel(\"Sum of expected value\")\n",
    "Path(\"results\").mkdir(parents=True, exist_ok=True)\n",
    "plt.savefig(Path(\"results\") / \"churn_optimisation.png\", transparent=True)"
   ]
  },
  {
   "cell_type": "code",
   "execution_count": null,
   "metadata": {},
   "outputs": [],
   "source": [
    "# expeted value at 100k sales budget\n",
    "focus_df[focus_df.cost_sum < 100_000].expected_value_sum.iloc[-1]"
   ]
  },
  {
   "cell_type": "code",
   "execution_count": null,
   "metadata": {},
   "outputs": [],
   "source": [
    "# optimal expected value\n",
    "focus_df.expected_value_sum.max()"
   ]
  },
  {
   "cell_type": "code",
   "execution_count": null,
   "metadata": {},
   "outputs": [],
   "source": [
    "# sales budget at optimal expected value\n",
    "focus_df[\n",
    "    focus_df.expected_value_sum == focus_df.expected_value_sum.max()\n",
    "].cost_sum"
   ]
  }
 ],
 "metadata": {
  "kernelspec": {
   "display_name": ".venv",
   "language": "python",
   "name": "python3"
  },
  "language_info": {
   "codemirror_mode": {
    "name": "ipython",
    "version": 3
   },
   "file_extension": ".py",
   "mimetype": "text/x-python",
   "name": "python",
   "nbconvert_exporter": "python",
   "pygments_lexer": "ipython3",
   "version": "3.9.13"
  }
 },
 "nbformat": 4,
 "nbformat_minor": 2
}
